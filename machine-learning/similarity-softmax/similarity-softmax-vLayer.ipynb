{
 "cells": [
  {
   "cell_type": "code",
   "execution_count": 1,
   "id": "520a6b97-41b4-44cc-b49d-1d3e95db5ab0",
   "metadata": {
    "tags": []
   },
   "outputs": [
    {
     "name": "stdout",
     "output_type": "stream",
     "text": [
      "WARNING:tensorflow:From d:\\proyek python\\env\\Lib\\site-packages\\keras\\src\\losses.py:2976: The name tf.losses.sparse_softmax_cross_entropy is deprecated. Please use tf.compat.v1.losses.sparse_softmax_cross_entropy instead.\n",
      "\n"
     ]
    },
    {
     "name": "stderr",
     "output_type": "stream",
     "text": [
      "d:\\proyek python\\env\\Lib\\site-packages\\matplotlib\\projections\\__init__.py:63: UserWarning: Unable to import Axes3D. This may be due to multiple versions of Matplotlib being installed (e.g. as a system package and as a pip package). As a result, the 3D projection is not available.\n",
      "  warnings.warn(\"Unable to import Axes3D. This may be due to multiple versions of \"\n"
     ]
    }
   ],
   "source": [
    "import pandas as pd\n",
    "import numpy as np\n",
    "import nltk\n",
    "from nltk.tokenize import word_tokenize\n",
    "import tensorflow as tf\n",
    "import keras\n",
    "from keras import optimizers, regularizers\n",
    "from keras.layers import Input, Embedding, Flatten, Lambda, Dense, Reshape, LSTM, GlobalMaxPool2D, GlobalAvgPool2D, Concatenate, Concatenate, Multiply, Dropout, Subtract, Add, Conv2D\n",
    "from keras.models import Model\n",
    "from keras.optimizers import Adam\n",
    "from sklearn.model_selection import train_test_split\n",
    "from keras.preprocessing.text import Tokenizer\n",
    "from keras.preprocessing.sequence import pad_sequences\n",
    "import itertools\n",
    "from collections import Counter\n",
    "# from utils import data_merger, filter_data\n",
    "import random\n",
    "from sklearn.feature_extraction.text import CountVectorizer\n",
    "import math\n",
    "import matplotlib.pyplot as plt\n",
    "import re\n",
    "# import seaborn as sns"
   ]
  },
  {
   "cell_type": "code",
   "execution_count": 2,
   "id": "d9411c76-ab71-4f6c-b93c-df246d1cb66b",
   "metadata": {
    "tags": []
   },
   "outputs": [],
   "source": [
    "# Read the dataset\n",
    "data = pd.read_excel('./dataset.xlsx', sheet_name='main')\n",
    "df = pd.DataFrame(data)"
   ]
  },
  {
   "cell_type": "code",
   "execution_count": 3,
   "id": "f0e2a791-ed55-43e4-8bd6-2caf8a0b0d12",
   "metadata": {},
   "outputs": [],
   "source": [
    "dfLabel, dfValue = list(df)[1], list(df)[2::]"
   ]
  },
  {
   "cell_type": "code",
   "execution_count": 4,
   "id": "0af72df9-81ea-45fa-acbe-c06fcd33f6c6",
   "metadata": {
    "tags": []
   },
   "outputs": [],
   "source": [
    "questionClass = dict(zip(range(len(df['q'])), df['q']))"
   ]
  },
  {
   "cell_type": "code",
   "execution_count": 5,
   "id": "4b8dba52-dc11-48da-a1b8-84d8e92feeaa",
   "metadata": {
    "tags": []
   },
   "outputs": [
    {
     "name": "stdout",
     "output_type": "stream",
     "text": [
      "8\n"
     ]
    }
   ],
   "source": [
    "search_value = 'Bagaimana Anda menghadapi tren kuliner dan bagaimana Anda berencana untuk tetap relevan di pasar?'\n",
    "keys_for_value = [key for key, value in questionClass.items() if value == search_value]\n",
    "\n",
    "print(keys_for_value[0])"
   ]
  },
  {
   "cell_type": "code",
   "execution_count": 6,
   "id": "69a06ec6-a9cf-473e-bc9e-46865ca8f79b",
   "metadata": {
    "tags": []
   },
   "outputs": [
    {
     "data": {
      "text/plain": [
       "50"
      ]
     },
     "execution_count": 6,
     "metadata": {},
     "output_type": "execute_result"
    }
   ],
   "source": [
    "len(dfValue)"
   ]
  },
  {
   "cell_type": "code",
   "execution_count": 7,
   "id": "28873118-b72b-42dc-ae19-c0b383fe9a0c",
   "metadata": {
    "tags": []
   },
   "outputs": [],
   "source": [
    "dfKey, dfValue = list(df)[1], list(df)[2::]\n",
    "answers, labels = [], []\n",
    "for i in range(len(dfValue)):\n",
    "    for j in range(len(df[dfValue[i]])):\n",
    "        answer = df[dfValue[i]][j]\n",
    "        if pd.isna(answer): continue\n",
    "        answers.append(answer)\n",
    "        labels.append([key for key, value in questionClass.items() if value == df[dfKey][j]][0])"
   ]
  },
  {
   "cell_type": "code",
   "execution_count": 8,
   "id": "c220b94d-922e-4503-83ff-a375079a9f38",
   "metadata": {
    "tags": []
   },
   "outputs": [
    {
     "data": {
      "text/plain": [
       "(('saya', 6005), ('dan', 4564), ('yang', 3844))"
      ]
     },
     "execution_count": 8,
     "metadata": {},
     "output_type": "execute_result"
    }
   ],
   "source": [
    "wordList = []\n",
    "for item in answers:\n",
    "    temp = item.split()\n",
    "    for x in temp:\n",
    "        wordList.append(x.lower())\n",
    "result = dict(Counter(wordList))\n",
    "commonworddata = sorted(result.items(), key=lambda x: x[1], reverse=True)\n",
    "commonworddata[0], commonworddata[1], commonworddata[2]"
   ]
  },
  {
   "cell_type": "code",
   "execution_count": 9,
   "id": "a310c152-16d7-46a9-8397-217c68da35c5",
   "metadata": {
    "tags": []
   },
   "outputs": [],
   "source": [
    "commonword, frequencies = zip(*commonworddata[:30])"
   ]
  },
  {
   "cell_type": "code",
   "execution_count": 10,
   "id": "9502199d-051b-479c-90b6-29c2ab5995fe",
   "metadata": {
    "tags": []
   },
   "outputs": [],
   "source": [
    "def preprocessing_text(sentence):\n",
    "    words = word_tokenize(sentence)\n",
    "    filtered_sentence = [word for word in words if word.lower() not in commonword]\n",
    "    return re.sub(r'[^\\w\\d\\s]', '', ' '.join(filtered_sentence)).replace('  ', ' ')"
   ]
  },
  {
   "cell_type": "code",
   "execution_count": 11,
   "id": "93574a18-0645-4abe-8465-77be092ecc00",
   "metadata": {
    "tags": []
   },
   "outputs": [
    {
     "data": {
      "text/plain": [
       "'Konsep kuliner yang unik bagi saya melibatkan eksplorasi dan penciptaan cita rasa yang belum pernah ditemui sebelumnya. Ini melibatkan penggabungan bahan-bahan, teknik memasak yang inovatif, dan presentasi yang menarik.'"
      ]
     },
     "execution_count": 11,
     "metadata": {},
     "output_type": "execute_result"
    }
   ],
   "source": [
    "answers[0]"
   ]
  },
  {
   "cell_type": "code",
   "execution_count": 12,
   "id": "ff36f98d-a429-4db6-a292-41380a278beb",
   "metadata": {
    "tags": []
   },
   "outputs": [],
   "source": [
    "temp = []\n",
    "for answer in answers:\n",
    "    temp.append(preprocessing_text(answer))\n",
    "answers = temp"
   ]
  },
  {
   "cell_type": "code",
   "execution_count": 13,
   "id": "a24b2ea5-09a5-4df8-9282-159492a19b50",
   "metadata": {
    "tags": []
   },
   "outputs": [
    {
     "data": {
      "text/plain": [
       "'Konsep kuliner unik bagi melibatkan eksplorasi penciptaan cita rasa belum pernah ditemui sebelumnya melibatkan penggabungan bahanbahan teknik memasak inovatif presentasi menarik '"
      ]
     },
     "execution_count": 13,
     "metadata": {},
     "output_type": "execute_result"
    }
   ],
   "source": [
    "answers[0]"
   ]
  },
  {
   "cell_type": "code",
   "execution_count": 14,
   "id": "5a957a14-c053-4139-a1a9-4ed3bc126720",
   "metadata": {
    "tags": []
   },
   "outputs": [
    {
     "data": {
      "text/plain": [
       "136"
      ]
     },
     "execution_count": 14,
     "metadata": {},
     "output_type": "execute_result"
    }
   ],
   "source": [
    "totalClass = len(df[dfKey])\n",
    "totalClass"
   ]
  },
  {
   "cell_type": "code",
   "execution_count": 15,
   "id": "e1bb84f1-3dab-4c4d-a839-79ea9fd85f1b",
   "metadata": {
    "tags": []
   },
   "outputs": [
    {
     "data": {
      "text/plain": [
       "2790"
      ]
     },
     "execution_count": 15,
     "metadata": {},
     "output_type": "execute_result"
    }
   ],
   "source": [
    "len(answers)"
   ]
  },
  {
   "cell_type": "code",
   "execution_count": 16,
   "id": "b5644f8a-ff77-4a26-8c06-d26965f23b6a",
   "metadata": {
    "tags": []
   },
   "outputs": [
    {
     "name": "stdout",
     "output_type": "stream",
     "text": [
      "135 X: Ketika merasa kelelahan kejenuhan pekerjaan mencoba menjaga keseimbangan beristirahat sejenak berjalanjalan sebentar mendengarkan musik berbicara rekan kerja menyegarkan pikiran kembali energi baik \n",
      "135 Y: 135\n",
      "136 X: Kuliner unik menciptakan makan tak terlupakan mencakup harmoni antara cita rasa tampilan visual interaksi tamu \n",
      "136 Y: 0\n",
      "137 X: peran sebelumnya bertanggung jawab atas seluruh proses perencanaan eksekusi menu restoran memperhatikan baik aspek kreatif maupun aspek bisnis seperti margin keuntungan persediaan \n",
      "137 Y: 1\n",
      "138 X: Salah satu pendekatan terapkan menggunakan perangkat lunak manajemen persediaan canggih mengoptimalkan pengelolaan stok mencegah pemborosan \n",
      "138 Y: 2\n",
      "139 X: Kualitas makanan restoran dijamin pemilihan bahanbahan berkualitas tinggi bekerja sama pemasok tepercaya pasokan bahan baku segar berkualitas Kebersihan prioritas utama mengikuti standar kebersihan ketat \n",
      "139 Y: 3\n"
     ]
    }
   ],
   "source": [
    "for i in range(135, 140):\n",
    "    print(f\"{i} X: {answers[i]}\")\n",
    "    print(f\"{i} Y: {labels[i]}\")"
   ]
  },
  {
   "cell_type": "code",
   "execution_count": 388,
   "id": "0ffba7bb-870e-444f-8bae-9a31c74ff493",
   "metadata": {
    "tags": []
   },
   "outputs": [],
   "source": [
    "# # shuffling the answer for good training and validation split\n",
    "# combined = list(zip(combinedData, labels))\n",
    "# random.shuffle(combined)\n",
    "# combined1, combined2 = zip(*combined)"
   ]
  },
  {
   "cell_type": "code",
   "execution_count": 17,
   "id": "21be8fe6-3a91-4ce5-88f2-bbc5a756dfc3",
   "metadata": {
    "tags": []
   },
   "outputs": [
    {
     "name": "stdout",
     "output_type": "stream",
     "text": [
      "Vocabulary Size: 3512\n"
     ]
    }
   ],
   "source": [
    "# counting vocabulary size to avoid overfitting\n",
    "vectorizer = CountVectorizer()\n",
    "X = vectorizer.fit_transform(answers)\n",
    "vocab_size = len(vectorizer.get_feature_names_out())\n",
    "print(\"Vocabulary Size:\", vocab_size)"
   ]
  },
  {
   "cell_type": "code",
   "execution_count": 34,
   "id": "e0378dad-61de-4e4a-a137-ba24f2fb5476",
   "metadata": {
    "tags": []
   },
   "outputs": [],
   "source": [
    "training_size = round(len(answers) * 0.78)\n",
    "max_length = 20\n",
    "embedding_dim = 64"
   ]
  },
  {
   "cell_type": "code",
   "execution_count": 35,
   "id": "81c0f525-bd9b-4604-8ef9-9e94f9ebe2ac",
   "metadata": {
    "tags": []
   },
   "outputs": [],
   "source": [
    "# splitting training and validation data\n",
    "training_sentences = answers[0:training_size]\n",
    "testing_sentences = answers[training_size:]\n",
    "training_labels = labels[0:training_size]\n",
    "testing_labels = labels[training_size:]"
   ]
  },
  {
   "cell_type": "code",
   "execution_count": 36,
   "id": "83f6943d-be01-4501-a359-dead3acdc3a3",
   "metadata": {
    "tags": []
   },
   "outputs": [],
   "source": [
    "# converting the data into sequences and give a padding\n",
    "trunc_type='post'\n",
    "padding_type='post'\n",
    "oov_tok = \"<OOV>\"\n",
    "\n",
    "tokenizer = Tokenizer(num_words=vocab_size, oov_token=oov_tok)\n",
    "tokenizer.fit_on_texts(training_sentences)\n",
    "word_index = tokenizer.word_index\n",
    "\n",
    "training_sequences = tokenizer.texts_to_sequences(training_sentences)\n",
    "training_padded = pad_sequences(training_sequences, maxlen=max_length, padding=padding_type, truncating=trunc_type)\n",
    "\n",
    "testing_sequences = tokenizer.texts_to_sequences(testing_sentences)\n",
    "testing_padded = pad_sequences(testing_sequences, maxlen=max_length, padding=padding_type, truncating=trunc_type)\n",
    "\n",
    "training_labels = np.array(training_labels)\n",
    "testing_labels = np.array(testing_labels)"
   ]
  },
  {
   "cell_type": "code",
   "execution_count": 37,
   "id": "519e425f-8cd7-4546-b4a9-d7d2819b33cc",
   "metadata": {
    "tags": []
   },
   "outputs": [
    {
     "name": "stdout",
     "output_type": "stream",
     "text": [
      "Model: \"sequential_3\"\n",
      "_________________________________________________________________\n",
      " Layer (type)                Output Shape              Param #   \n",
      "=================================================================\n",
      " embedding_3 (Embedding)     (None, 20, 128)           449536    \n",
      "                                                                 \n",
      " global_average_pooling1d_3  (None, 128)               0         \n",
      "  (GlobalAveragePooling1D)                                       \n",
      "                                                                 \n",
      " dense_6 (Dense)             (None, 16)                2064      \n",
      "                                                                 \n",
      " dense_7 (Dense)             (None, 136)               2312      \n",
      "                                                                 \n",
      "=================================================================\n",
      "Total params: 453912 (1.73 MB)\n",
      "Trainable params: 453912 (1.73 MB)\n",
      "Non-trainable params: 0 (0.00 Byte)\n",
      "_________________________________________________________________\n"
     ]
    }
   ],
   "source": [
    "# declare the model\n",
    "# model = tf.keras.Sequential([\n",
    "#     tf.keras.layers.Embedding(vocab_size, embedding_dim, input_length=max_length),\n",
    "#     tf.keras.layers.Conv1D(128, 5, activation='relu'),\n",
    "#     tf.keras.layers.GlobalAveragePooling1D(),\n",
    "#     tf.keras.layers.Dense(64, activation='relu'),\n",
    "#     tf.keras.layers.Dropout(0.2),\n",
    "#     tf.keras.layers.Dense(32, activation='relu'),\n",
    "#     tf.keras.layers.Dense(totalClass, activation='softmax')\n",
    "# ])\n",
    "model = keras.models.Sequential([\n",
    "    keras.layers.Embedding(vocab_size, 128, input_length=max_length),\n",
    "    keras.layers.GlobalAveragePooling1D(),\n",
    "    keras.layers.Dense(16, activation='relu'),\n",
    "    keras.layers.Dense(totalClass, activation='softmax')\n",
    "])\n",
    "model.summary()"
   ]
  },
  {
   "cell_type": "code",
   "execution_count": 38,
   "id": "3bb87ced-3eec-4aca-bf6b-81b9088b95a7",
   "metadata": {
    "collapsed": true,
    "jupyter": {
     "outputs_hidden": true
    },
    "tags": []
   },
   "outputs": [
    {
     "name": "stdout",
     "output_type": "stream",
     "text": [
      "Epoch 1/25\n",
      "68/68 - 2s - loss: 4.9065 - accuracy: 0.0207 - val_loss: 4.8900 - val_accuracy: 0.0472 - 2s/epoch - 35ms/step\n",
      "Epoch 2/25\n",
      "68/68 - 1s - loss: 4.8475 - accuracy: 0.0666 - val_loss: 4.7989 - val_accuracy: 0.0651 - 555ms/epoch - 8ms/step\n",
      "Epoch 3/25\n",
      "68/68 - 1s - loss: 4.6491 - accuracy: 0.1043 - val_loss: 4.5574 - val_accuracy: 0.0977 - 532ms/epoch - 8ms/step\n",
      "Epoch 4/25\n",
      "68/68 - 1s - loss: 4.2615 - accuracy: 0.1392 - val_loss: 4.1860 - val_accuracy: 0.1645 - 529ms/epoch - 8ms/step\n",
      "Epoch 5/25\n",
      "68/68 - 1s - loss: 3.7511 - accuracy: 0.2583 - val_loss: 3.7741 - val_accuracy: 0.2638 - 537ms/epoch - 8ms/step\n",
      "Epoch 6/25\n",
      "68/68 - 1s - loss: 3.2067 - accuracy: 0.3975 - val_loss: 3.3985 - val_accuracy: 0.3420 - 519ms/epoch - 8ms/step\n",
      "Epoch 7/25\n",
      "68/68 - 1s - loss: 2.6928 - accuracy: 0.5317 - val_loss: 3.1052 - val_accuracy: 0.4055 - 530ms/epoch - 8ms/step\n",
      "Epoch 8/25\n",
      "68/68 - 1s - loss: 2.2535 - accuracy: 0.6186 - val_loss: 2.8631 - val_accuracy: 0.4625 - 535ms/epoch - 8ms/step\n",
      "Epoch 9/25\n",
      "68/68 - 1s - loss: 1.8887 - accuracy: 0.6847 - val_loss: 2.7007 - val_accuracy: 0.4870 - 532ms/epoch - 8ms/step\n",
      "Epoch 10/25\n",
      "68/68 - 1s - loss: 1.5928 - accuracy: 0.7463 - val_loss: 2.5816 - val_accuracy: 0.5147 - 533ms/epoch - 8ms/step\n",
      "Epoch 11/25\n",
      "68/68 - 1s - loss: 1.3515 - accuracy: 0.8024 - val_loss: 2.4941 - val_accuracy: 0.5228 - 543ms/epoch - 8ms/step\n",
      "Epoch 12/25\n",
      "68/68 - 1s - loss: 1.1555 - accuracy: 0.8304 - val_loss: 2.4226 - val_accuracy: 0.5472 - 646ms/epoch - 10ms/step\n",
      "Epoch 13/25\n",
      "68/68 - 1s - loss: 0.9940 - accuracy: 0.8644 - val_loss: 2.3805 - val_accuracy: 0.5407 - 592ms/epoch - 9ms/step\n",
      "Epoch 14/25\n",
      "68/68 - 1s - loss: 0.8577 - accuracy: 0.8920 - val_loss: 2.3032 - val_accuracy: 0.5505 - 590ms/epoch - 9ms/step\n",
      "Epoch 15/25\n",
      "68/68 - 1s - loss: 0.7425 - accuracy: 0.9113 - val_loss: 2.2936 - val_accuracy: 0.5554 - 567ms/epoch - 8ms/step\n",
      "Epoch 16/25\n",
      "68/68 - 1s - loss: 0.6456 - accuracy: 0.9260 - val_loss: 2.2692 - val_accuracy: 0.5635 - 578ms/epoch - 9ms/step\n",
      "Epoch 17/25\n",
      "68/68 - 1s - loss: 0.5641 - accuracy: 0.9389 - val_loss: 2.2509 - val_accuracy: 0.5603 - 565ms/epoch - 8ms/step\n",
      "Epoch 18/25\n",
      "68/68 - 1s - loss: 0.4989 - accuracy: 0.9435 - val_loss: 2.2441 - val_accuracy: 0.5684 - 567ms/epoch - 8ms/step\n",
      "Epoch 19/25\n",
      "68/68 - 1s - loss: 0.4350 - accuracy: 0.9568 - val_loss: 2.2358 - val_accuracy: 0.5717 - 570ms/epoch - 8ms/step\n",
      "Epoch 20/25\n",
      "68/68 - 1s - loss: 0.3872 - accuracy: 0.9577 - val_loss: 2.2408 - val_accuracy: 0.5733 - 554ms/epoch - 8ms/step\n",
      "Epoch 21/25\n",
      "68/68 - 1s - loss: 0.3423 - accuracy: 0.9669 - val_loss: 2.2268 - val_accuracy: 0.5749 - 553ms/epoch - 8ms/step\n",
      "Epoch 22/25\n",
      "68/68 - 1s - loss: 0.3029 - accuracy: 0.9697 - val_loss: 2.2439 - val_accuracy: 0.5765 - 566ms/epoch - 8ms/step\n",
      "Epoch 23/25\n",
      "68/68 - 1s - loss: 0.2711 - accuracy: 0.9733 - val_loss: 2.2266 - val_accuracy: 0.5717 - 570ms/epoch - 8ms/step\n",
      "Epoch 24/25\n",
      "68/68 - 1s - loss: 0.2423 - accuracy: 0.9761 - val_loss: 2.2398 - val_accuracy: 0.5814 - 572ms/epoch - 8ms/step\n",
      "Epoch 25/25\n",
      "68/68 - 1s - loss: 0.2144 - accuracy: 0.9876 - val_loss: 2.2596 - val_accuracy: 0.5798 - 568ms/epoch - 8ms/step\n"
     ]
    }
   ],
   "source": [
    "model.compile(loss='SparseCategoricalCrossentropy',optimizer=Adam(),metrics=['accuracy'])\n",
    "history = model.fit(training_padded, training_labels, epochs=25, validation_data=(testing_padded, testing_labels), verbose=2)"
   ]
  },
  {
   "cell_type": "code",
   "execution_count": 39,
   "metadata": {},
   "outputs": [],
   "source": [
    "def plot_graphs(history, string):\n",
    "    plt.plot(history.history[string])\n",
    "    plt.plot(history.history['val_'+string])\n",
    "    plt.xlabel(\"Epochs\")\n",
    "    plt.ylabel(string)\n",
    "    plt.legend([string, 'val_'+string])\n",
    "\n",
    "    plt.ylim(bottom=0)\n",
    "\n",
    "    plt.show()"
   ]
  },
  {
   "cell_type": "code",
   "execution_count": 40,
   "id": "91b792ec-2f4f-4385-8ee8-824e52ca3ebc",
   "metadata": {
    "tags": []
   },
   "outputs": [
    {
     "data": {
      "image/png": "[encoded data removed]",
      "text/plain": [
       "<Figure size 640x480 with 1 Axes>"
      ]
     },
     "metadata": {},
     "output_type": "display_data"
    },
    {
     "data": {
      "image/png": "[encoded data removed]",
      "text/plain": [
       "<Figure size 640x480 with 1 Axes>"
      ]
     },
     "metadata": {},
     "output_type": "display_data"
    }
   ],
   "source": [
    "plot_graphs(history, \"accuracy\")\n",
    "plot_graphs(history, \"loss\")"
   ]
  },
  {
   "cell_type": "code",
   "execution_count": 46,
   "metadata": {},
   "outputs": [
    {
     "data": {
      "image/png": "[encoded data removed]",
      "text/plain": [
       "<Figure size 640x480 with 1 Axes>"
      ]
     },
     "metadata": {},
     "output_type": "display_data"
    },
    {
     "data": {
      "image/png": "[encoded data removed]",
      "text/plain": [
       "<Figure size 640x480 with 1 Axes>"
      ]
     },
     "metadata": {},
     "output_type": "display_data"
    }
   ],
   "source": [
    "\n",
    "plot_graphs(history, \"accuracy\")\n",
    "plot_graphs(history, \"loss\")"
   ]
  },
  {
   "cell_type": "code",
   "execution_count": 95,
   "id": "f619b4b7",
   "metadata": {},
   "outputs": [],
   "source": [
    "def predict(text):\n",
    "    preprocessed_text = preprocessing_text(text)\n",
    "    input_sequence = tokenizer.texts_to_sequences([preprocessed_text])\n",
    "    padded_input = pad_sequences(input_sequence, maxlen=max_length, padding=padding_type, truncating=trunc_type)\n",
    "    predictions = model.predict(padded_input)\n",
    "    \n",
    "    top_indices = np.argsort(-predictions, axis=1)[0][:5]  # Get indices of top predictions\n",
    "    top_classes = [questionClass[index] for index in top_indices]  # Retrieve class labels\n",
    "    top_confidences = [predictions[0][index] for index in top_indices]  # Retrieve confidences\n",
    "    \n",
    "    return [(top_classes[i], top_confidences[i]) for i in range(len(top_classes))]"
   ]
  },
  {
   "cell_type": "code",
   "execution_count": 96,
   "id": "c0296eb7-02b3-44a2-8649-1a072a9c30a7",
   "metadata": {
    "tags": []
   },
   "outputs": [
    {
     "name": "stdout",
     "output_type": "stream",
     "text": [
      "1/1 [==============================] - 0s 190ms/step\n"
     ]
    },
    {
     "data": {
      "text/plain": [
       "[('Apa yang membuat Anda yakin bahwa posisi ini adalah langkah yang tepat dalam perkembangan karier Anda?',\n",
       "  0.9829937),\n",
       " ('Apa definisi Anda tentang layanan pelanggan yang baik, dan bagaimana Anda menerapkannya dalam pekerjaan Anda?',\n",
       "  0.012110515),\n",
       " ('Apa yang anda ketahui mengenai posisi ini?', 0.0013186038),\n",
       " ('Jika anda diterima pada posisi yang anda inginkan, Hal apa yang akan anda lakukan untuk kedepannya?',\n",
       "  0.0012363149),\n",
       " ('Bagaimana Anda mengelola waktu dan deadline dalam proyek desain grafis?',\n",
       "  0.0005118116)]"
      ]
     },
     "execution_count": 96,
     "metadata": {},
     "output_type": "execute_result"
    }
   ],
   "source": [
    "predict(\"Keyakinan saya tentang posisi ini sebagai langkah yang tepat dalam perkembangan karier saya didukung oleh kesesuaian peran ini dengan tujuan jangka panjang saya. Saya melihat bahwa pekerjaan ini akan membantu saya mendekati tujuan karier saya dengan lebih cepat.\")"
   ]
  },
  {
   "cell_type": "code",
   "execution_count": 414,
   "id": "eab995c3-277b-47bb-8933-c7ca30e4a78c",
   "metadata": {
    "tags": []
   },
   "outputs": [
    {
     "name": "stdout",
     "output_type": "stream",
     "text": [
      "1/1 [==============================] - 0s 14ms/step\n"
     ]
    },
    {
     "data": {
      "text/plain": [
       "[('Apakah anda merasa cocok dengan pekerjaan ini?', 0.9147565),\n",
       " ('Apa yang membuat Anda yakin bahwa posisi ini adalah langkah yang tepat dalam perkembangan karier Anda?',\n",
       "  0.04693356),\n",
       " ('Apa definisi Anda tentang layanan pelanggan yang baik, dan bagaimana Anda menerapkannya dalam pekerjaan Anda?',\n",
       "  0.020417448),\n",
       " ('Bisakah Anda memberikan contoh situasi di mana Anda menghadapi tantangan besar dan bagaimana Anda mengatasinya?',\n",
       "  0.016415326),\n",
       " ('Apa yang anda ketahui mengenai posisi ini?', 0.0009599515)]"
      ]
     },
     "execution_count": 414,
     "metadata": {},
     "output_type": "execute_result"
    }
   ],
   "source": [
    "text = 'Saya yakin bahwa posisi ini merupakan langkah yang tepat dalam perkembangan karier saya karena perannya sesuai dengan tujuan jangka panjang saya. Saya percaya pekerjaan ini akan mempercepat pencapaian tujuan karier saya.'\n",
    "predict(text)"
   ]
  },
  {
   "cell_type": "code",
   "execution_count": 415,
   "id": "cecce6d6-e199-4990-b368-10a1df7138d2",
   "metadata": {
    "tags": []
   },
   "outputs": [
    {
     "name": "stdout",
     "output_type": "stream",
     "text": [
      "1/1 [==============================] - 0s 14ms/step\n"
     ]
    },
    {
     "data": {
      "text/plain": [
       "[('Apa yang membuat Anda yakin bahwa posisi ini adalah langkah yang tepat dalam perkembangan karier Anda?',\n",
       "  0.9865133),\n",
       " ('Apa yang membuat anda tertarik dalam bidang hiburan?', 0.010508898),\n",
       " ('Bagaimana Anda mengukur kesuksesan Anda di tempat kerja dan bagaimana Anda berencana untuk mencapainya di perusahaan ini?',\n",
       "  0.002054791),\n",
       " ('Apa yang anda ketahui mengenai posisi ini?', 0.00086638075),\n",
       " ('Apa perangkat lunak atau sistem akuntansi yang Anda kuasai dan gunakan dalam pekerjaan Anda?',\n",
       "  5.6090146e-05)]"
      ]
     },
     "execution_count": 415,
     "metadata": {},
     "output_type": "execute_result"
    }
   ],
   "source": [
    "text = 'Keyakinan saya tentang kecocokan posisi ini dengan perkembangan karier saya didukung oleh kesesuaian peran ini dengan tujuan jangka panjang saya. Saya percaya bahwa pekerjaan ini akan mempercepat perjalanan saya menuju tujuan karier.'\n",
    "predict(text)"
   ]
  }
 ],
 "metadata": {
  "kernelspec": {
   "display_name": "Python 3 (ipykernel)",
   "language": "python",
   "name": "python3"
  },
  "language_info": {
   "codemirror_mode": {
    "name": "ipython",
    "version": 3
   },
   "file_extension": ".py",
   "mimetype": "text/x-python",
   "name": "python",
   "nbconvert_exporter": "python",
   "pygments_lexer": "ipython3",
   "version": "3.11.6"
  }
 },
 "nbformat": 4,
 "nbformat_minor": 5
}
